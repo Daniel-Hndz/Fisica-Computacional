{
  "nbformat": 4,
  "nbformat_minor": 0,
  "metadata": {
    "colab": {
      "provenance": []
    },
    "kernelspec": {
      "name": "python3",
      "display_name": "Python 3"
    },
    "language_info": {
      "name": "python"
    }
  },
  "cells": [
    {
      "cell_type": "code",
      "execution_count": null,
      "metadata": {
        "colab": {
          "base_uri": "https://localhost:8080/"
        },
        "id": "qtTXDyUB_L8z",
        "outputId": "1bdd92fe-48af-4969-ca57-176fc5c6609e"
      },
      "outputs": [
        {
          "output_type": "stream",
          "name": "stdout",
          "text": [
            "N=1000. Integral calculada: 3.154.\n",
            "Desviación estandar: 1.308e-02.\n",
            "Error porcentual: 0.392 %.\n",
            "\n",
            "-----------\n",
            "N=10000. Integral calculada: 3.135.\n",
            "Desviación estandar: 4.104e-03.\n",
            "Error porcentual: 0.226 %.\n",
            "\n",
            "-----------\n",
            "N=100000. Integral calculada: 3.140.\n",
            "Desviación estandar: 1.303e-03.\n",
            "Error porcentual: 0.065 %.\n",
            "\n",
            "-----------\n",
            "N=1000000. Integral calculada: 3.143.\n",
            "Desviación estandar: 4.127e-04.\n",
            "Error porcentual: 0.031 %.\n",
            "\n",
            "-----------\n"
          ]
        }
      ],
      "source": [
        "import random as rd\n",
        "import numpy as np\n",
        "\n",
        "def f(x):\n",
        "  return 4/(1+x**2)\n",
        "\n",
        "for N in [1000, 10000, 100000, 1000000]:\n",
        "  fsq=0\n",
        "  k=0.0\n",
        "  for i in range(N):\n",
        "    x=rd.random()\n",
        "    k+=f(x)\n",
        "    fsq+=(f(x))**2\n",
        "\n",
        "  I=k/N\n",
        "  Std=((fsq/N)-(k/N)**2)/np.sqrt(N)\n",
        "  ErrP=abs(np.pi-I)*(100)/np.pi\n",
        "  print(f\"N={N}. Integral calculada: {I:.3f}.\\nDesviación estandar: {Std:.3e}.\\nError porcentual: {ErrP:.3f} %.\\n\")\n",
        "  print(\"-----------\")\n"
      ]
    }
  ]
}