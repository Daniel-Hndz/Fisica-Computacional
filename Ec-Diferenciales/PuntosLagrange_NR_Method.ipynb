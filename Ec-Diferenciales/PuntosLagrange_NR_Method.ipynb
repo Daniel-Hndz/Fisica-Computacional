{
  "nbformat": 4,
  "nbformat_minor": 0,
  "metadata": {
    "colab": {
      "provenance": []
    },
    "kernelspec": {
      "name": "python3",
      "display_name": "Python 3"
    },
    "language_info": {
      "name": "python"
    }
  },
  "cells": [
    {
      "cell_type": "markdown",
      "source": [
        "\n",
        "\n",
        "```\n",
        "Punto de Lagrange entre la luna y la tierra\n",
        "```\n",
        "\n"
      ],
      "metadata": {
        "id": "T1nRMIjkPhPy"
      }
    },
    {
      "cell_type": "code",
      "execution_count": null,
      "metadata": {
        "colab": {
          "base_uri": "https://localhost:8080/"
        },
        "id": "tn8Cr77e-wnZ",
        "outputId": "b2bf647f-4517-4397-afab-a6f6eddbfce7"
      },
      "outputs": [
        {
          "output_type": "stream",
          "name": "stdout",
          "text": [
            "Punto de lagrange, x=3.260451e+08 m\n"
          ]
        }
      ],
      "source": [
        "G=6.674e-11\n",
        "m=7.348e22\n",
        "M= 5.974e24\n",
        "R= 3.844e8\n",
        "w=2.662e-6\n",
        "\n",
        "def f(r):\n",
        "  return (G*M)/(r**2)-(G*m)/((R-r)**2)-w**2*r\n",
        "\n",
        "\n",
        "def df(g,r):\n",
        "  h=0.01\n",
        "  return (g(r+h/2) - g(r-h/2))/h\n",
        "\n",
        "def NR(f,x):      #Metodo Newton-Raphson\n",
        "  eps= 1e-6\n",
        "  delta=1\n",
        "  while abs(delta)>eps:\n",
        "    delta= f(x)/df(f,x)\n",
        "    x= x- delta\n",
        "  return x\n",
        "\n",
        "print(f\"Punto de lagrange, x={NR(f,0.5):e} m\")"
      ]
    }
  ]
}